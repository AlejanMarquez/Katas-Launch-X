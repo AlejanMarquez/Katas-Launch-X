{
 "cells": [
  {
   "cell_type": "markdown",
   "metadata": {},
   "source": [
    "## Ejercicio 1: Trabajar con argumentos en funciones"
   ]
  },
  {
   "cell_type": "code",
   "execution_count": 3,
   "metadata": {},
   "outputs": [
    {
     "name": "stdout",
     "output_type": "stream",
     "text": [
      "\"Reporte de tanques\n",
      "    Estado de tanque 1: 80%\n",
      "    Estado de tanque 2: 90%\n",
      "    Estado de tanque 3: 60%\n",
      "    Promedio de los tanques 76.66666666666667%\n"
     ]
    }
   ],
   "source": [
    "# Función para leer 3 tanques de combustible y muestre el promedio\n",
    "def tanques(tanque1, tanque2, tanque3):\n",
    "    promedio = (tanque1 + tanque2 + tanque3) / 3\n",
    "    return f\"\"\"\"Reporte de tanques\n",
    "    Estado de tanque 1: {tanque1}%\n",
    "    Estado de tanque 2: {tanque2}%\n",
    "    Estado de tanque 3: {tanque3}%\n",
    "    Promedio de los tanques {promedio}%\"\"\"\n",
    "# Llamamos a la función que genera el reporte print(funcion(tanque1, tanque2, tanque3))\n",
    "print(tanques(80, 90, 60))"
   ]
  },
  {
   "cell_type": "code",
   "execution_count": 4,
   "metadata": {},
   "outputs": [
    {
     "data": {
      "text/plain": [
       "52.0"
      ]
     },
     "execution_count": 4,
     "metadata": {},
     "output_type": "execute_result"
    }
   ],
   "source": [
    "# Función promedio \n",
    "def promedio(valores):\n",
    "    total = sum(valores)\n",
    "    numeroDeObjetos = len(valores)\n",
    "    return total / numeroDeObjetos\n",
    "promedio([81, 50, 25])"
   ]
  },
  {
   "cell_type": "code",
   "execution_count": 5,
   "metadata": {},
   "outputs": [
    {
     "name": "stdout",
     "output_type": "stream",
     "text": [
      "\"Reporte de tanques\n",
      "    Estado de tanque 1: 40%\n",
      "    Estado de tanque 2: 67%\n",
      "    Estado de tanque 3: 90%\n",
      "    Promedio de los tanques 65.66666666666667%\n"
     ]
    }
   ],
   "source": [
    "# Actualiza la función\n",
    "def tanques(tanque1, tanque2, tanque3):\n",
    "    promedio = (tanque1 + tanque2 + tanque3) / 3\n",
    "    return f\"\"\"\"Reporte de tanques\n",
    "    Estado de tanque 1: {tanque1}%\n",
    "    Estado de tanque 2: {tanque2}%\n",
    "    Estado de tanque 3: {tanque3}%\n",
    "    Promedio de los tanques {promedio}%\"\"\"\n",
    "print(tanques(40, 67, 90))"
   ]
  },
  {
   "cell_type": "markdown",
   "metadata": {},
   "source": [
    "## Ejercicio 2: Trabajo con argumentos de palabra clave"
   ]
  },
  {
   "cell_type": "code",
   "execution_count": 7,
   "metadata": {},
   "outputs": [
    {
     "name": "stdout",
     "output_type": "stream",
     "text": [
      "\n",
      "        Mision a: coatza wei\n",
      "        Tiempo total de vuelo: 60 minutos\n",
      "        Combustible restante: 300 galones\n",
      "        \n"
     ]
    }
   ],
   "source": [
    "class cohete:\n",
    "    def __init__(self, horaLanzamiento, tiempoVuelo, destino, *tanques):\n",
    "        self.horaLanzamiento = horaLanzamiento\n",
    "        self.tiempoVuelo = tiempoVuelo\n",
    "        self.destino = destino\n",
    "        self.tanques = tanques\n",
    "        \n",
    "    def reporteMision1(self):\n",
    "        arrayCombustibleRestante = []\n",
    "        for i in range(len(self.tanques)):\n",
    "            arrayCombustibleRestante.append(self.tanques[i].combustible)\n",
    "        \n",
    "        return f\"\"\"\n",
    "        Mision a: {self.destino}\n",
    "        Tiempo total de vuelo: {self.horaLanzamiento + self.tiempoVuelo} minutos\n",
    "        Combustible restante: {sum(arrayCombustibleRestante)} galones\n",
    "        \"\"\"\n",
    "        \n",
    "\n",
    "class tanque:\n",
    "    def __init__(self, nombre, combustible):\n",
    "        self.nombre = nombre\n",
    "        self.combustible = combustible\n",
    "    \n",
    "    \n",
    "miTanque = tanque('Hidrogeno', 100)\n",
    "miTanque2 = tanque('Gasolina poderosa', 200)\n",
    "miCohete = cohete(10, 50, 'coatza wei', miTanque, miTanque2)\n",
    "\n",
    "print(miCohete.reporteMision1())"
   ]
  }
 ],
 "metadata": {
  "interpreter": {
   "hash": "8e6ccb4102dd246edc37c36a7580f43bd16eec6701893d6ed60e17aa6f971479"
  },
  "kernelspec": {
   "display_name": "Python 3.9.10 ('env': venv)",
   "language": "python",
   "name": "python3"
  },
  "language_info": {
   "codemirror_mode": {
    "name": "ipython",
    "version": 3
   },
   "file_extension": ".py",
   "mimetype": "text/x-python",
   "name": "python",
   "nbconvert_exporter": "python",
   "pygments_lexer": "ipython3",
   "version": "3.9.10"
  },
  "orig_nbformat": 4
 },
 "nbformat": 4,
 "nbformat_minor": 2
}
