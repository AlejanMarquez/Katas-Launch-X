{
 "cells": [
  {
   "cell_type": "markdown",
   "metadata": {},
   "source": [
    "## Ejercicio 1: Trabajar con argumentos en funciones"
   ]
  },
  {
   "cell_type": "code",
   "execution_count": null,
   "metadata": {},
   "outputs": [],
   "source": [
    "# Función para leer 3 tanques de combustible y muestre el promedio\n",
    "def tanques(tanque1, tanque2, tanque3):\n",
    "    promedio = (tanque1 + tanque2 + tanque3) / 3\n",
    "    return f\"\"\"\"Reporte de tanques\n",
    "    Estado de tanque 1: {tanque1}%\n",
    "    Estado de tanque 2: {tanque2}%\n",
    "    Estado de tanque 3: {tanque3}%\n",
    "    Promedio de los tanques {promedio}%\"\"\"\n",
    "# Llamamos a la función que genera el reporte print(funcion(tanque1, tanque2, tanque3))\n",
    "print(tanques(80, 90, 60))\n",
    "# Función promedio \n",
    "def promedio(valores):\n",
    "    total = "
   ]
  }
 ],
 "metadata": {
  "interpreter": {
   "hash": "8e6ccb4102dd246edc37c36a7580f43bd16eec6701893d6ed60e17aa6f971479"
  },
  "kernelspec": {
   "display_name": "Python 3.9.10 ('env': venv)",
   "language": "python",
   "name": "python3"
  },
  "language_info": {
   "name": "python",
   "version": "3.9.10"
  },
  "orig_nbformat": 4
 },
 "nbformat": 4,
 "nbformat_minor": 2
}
