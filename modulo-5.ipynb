{
 "cells": [
  {
   "cell_type": "markdown",
   "metadata": {},
   "source": [
    "## Ejercicio 1 Operadores aritmeticos"
   ]
  },
  {
   "cell_type": "code",
   "execution_count": 2,
   "metadata": {},
   "outputs": [
    {
     "name": "stdout",
     "output_type": "stream",
     "text": [
      "La distancia entre la tierra y de jupiter es de: 628949330\n",
      "La distancia entre la tierra y de jupiter es de: 1012195830.53952\n"
     ]
    }
   ],
   "source": [
    "tierra = 149597870\n",
    "jupiter = 778547200\n",
    "distanciaKm = int(jupiter) - int(tierra)\n",
    "distanciaMillas = int(distanciaKm) *  1.609344 \n",
    "\n",
    "print(\"La distancia entre la tierra y de jupiter es de: \" + str(distanciaKm))\n",
    "print(\"La distancia entre la tierra y de jupiter es de: \" + str(distanciaMillas))\n"
   ]
  },
  {
   "cell_type": "markdown",
   "metadata": {},
   "source": [
    "## Ejercicio 2 convierte cadenas en números y usa valores absolutos"
   ]
  },
  {
   "cell_type": "code",
   "execution_count": 4,
   "metadata": {},
   "outputs": [
    {
     "name": "stdout",
     "output_type": "stream",
     "text": [
      "La distancia de los planetas es de: 629000000 Km\n",
      "La distancia de los planetas es de: 1012277376.0000001 Millas\n"
     ]
    }
   ],
   "source": [
    "planetaUno = input (\"Introduce la distancia del planeta en KM, tomando como punto inicial el sol: \")\n",
    "planetaDos = input (\"Introduce la distancia del planeta en KM, tomando como punto inicial el sol: \")\n",
    "distanciaKm = int(planetaDos) - int(planetaUno)\n",
    "distanciaMillas = int(distanciaKm) * 1.609344\n",
    "print('La distancia de los planetas es de: ' + str(distanciaKm) + ' Km')\n",
    "print('La distancia de los planetas es de: ' + str(distanciaMillas) + ' Millas')"
   ]
  }
 ],
 "metadata": {
  "interpreter": {
   "hash": "8e6ccb4102dd246edc37c36a7580f43bd16eec6701893d6ed60e17aa6f971479"
  },
  "kernelspec": {
   "display_name": "Python 3.9.10 ('env': venv)",
   "language": "python",
   "name": "python3"
  },
  "language_info": {
   "codemirror_mode": {
    "name": "ipython",
    "version": 3
   },
   "file_extension": ".py",
   "mimetype": "text/x-python",
   "name": "python",
   "nbconvert_exporter": "python",
   "pygments_lexer": "ipython3",
   "version": "3.10.1"
  },
  "orig_nbformat": 4
 },
 "nbformat": 4,
 "nbformat_minor": 2
}
