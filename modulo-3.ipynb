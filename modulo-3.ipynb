{
 "cells": [
  {
   "cell_type": "markdown",
   "metadata": {},
   "source": [
    "## Ejercicio Asteroide"
   ]
  },
  {
   "cell_type": "code",
   "execution_count": null,
   "metadata": {},
   "outputs": [],
   "source": [
    "asteroideVelocidad = 49\n",
    "if asteroideVelocidad > 25:\n",
    "    print('Hay un asteroide acercandose')\n",
    "else:\n",
    "    print('No hay asteroides cerca')"
   ]
  },
  {
   "cell_type": "markdown",
   "metadata": {},
   "source": [
    "## Ejercicio Asteroide en la Atmosfera"
   ]
  },
  {
   "cell_type": "code",
   "execution_count": 13,
   "metadata": {},
   "outputs": [
    {
     "name": "stdout",
     "output_type": "stream",
     "text": [
      "Hay un asteroide acercandose a la tierra, y tiene una velocidad de: 21\n"
     ]
    }
   ],
   "source": [
    "asteroideVelocidad = 21\n",
    "if asteroideVelocidad > 20:\n",
    "    print('Hay un asteroide acercandose a la tierra, y tiene una velocidad de: ' + str(asteroideVelocidad))\n",
    "elif asteroideVelocidad == 20:\n",
    "    print('Mira al cielo, hay un rayo de luz por un asteroide, y tiene una velocidad de: ' + str(asteroideVelocidad))\n",
    "else:\n",
    "    print('No hay ningun asteroide acercandose')"
   ]
  },
  {
   "cell_type": "markdown",
   "metadata": {},
   "source": [
    "## EJercicio Asteroide con AND o OR"
   ]
  },
  {
   "cell_type": "code",
   "execution_count": 26,
   "metadata": {},
   "outputs": [
    {
     "name": "stdout",
     "output_type": "stream",
     "text": [
      "Caera un asteroide pero no sera peligroso, mira al cielo :)\n"
     ]
    }
   ],
   "source": [
    "asteroideVelocidad = 40\n",
    "asteroideTamano = 10\n",
    "if asteroideVelocidad > 25 and asteroideTamano > 25:\n",
    "    print('Hay un peligroso asteroide acercandose a la tierra :|')\n",
    "elif asteroideVelocidad >= 25:\n",
    "    print('Caera un asteroide pero no sera peligroso, mira al cielo :)')\n",
    "elif asteroideTamano < 25:\n",
    "    print('No ocurre nada :)')\n",
    "else:\n",
    "    print('No ocurre nada :)')"
   ]
  }
 ],
 "metadata": {
  "interpreter": {
   "hash": "0b752d2113e90b269db4a795809a12e44ab3a60ebf940da3f714d418a5e2bde9"
  },
  "kernelspec": {
   "display_name": "Python 3.10.1 64-bit",
   "language": "python",
   "name": "python3"
  },
  "language_info": {
   "codemirror_mode": {
    "name": "ipython",
    "version": 3
   },
   "file_extension": ".py",
   "mimetype": "text/x-python",
   "name": "python",
   "nbconvert_exporter": "python",
   "pygments_lexer": "ipython3",
   "version": "3.10.1"
  },
  "orig_nbformat": 4
 },
 "nbformat": 4,
 "nbformat_minor": 2
}
